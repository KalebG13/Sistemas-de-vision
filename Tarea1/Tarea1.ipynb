{
 "cells": [
  {
   "cell_type": "markdown",
   "id": "0d4ec4b8",
   "metadata": {},
   "source": [
    "# Enunciado — Segmentación Multicriterio\n",
    "\n",
    "En el video **[YouTube: Señal de paso con prioridad para peatones](https://www.youtube.com/watch?v=b-WViLMs_4c)** se puede observar, **desde el minuto 4:00 al 4:06** (la tarea debe ejecutarse con imágenes cercanas al **minuto 4:04**), una **señal de tráfico que informa de la existencia de un paso con prioridad para peatones**.\n",
    "\n",
    "## Objetivo\n",
    "Desarrollar una **solución de segmentación** que, a partir de dicho video, **sea capaz de segmentar la señal**.\n",
    "\n",
    "## Requisito clave\n",
    "La solución **debe** emplear una **aproximación multicriterio**: la segmentación debe realizarse con **al menos dos criterios diferentes** (por ejemplo, color + forma, color + textura, bordes + patrones geométricos, etc.).\n",
    "\n",
    "## Extracción de imágenes (frames)\n",
    "Para extraer imágenes del video, pueden usar cualquier código presente en la literatura. Como referencia:\n",
    "- **Tutorial**: [Extract frames from videos in Python — thepythoncode.com](https://www.thepythoncode.com/article/extract-frames-from-videos-in-python)\n",
    "\n",
    "> Sugerencia: Trabajen con frames cercanos al segundo **4:04** del video.\n",
    "\n",
    "## Entregables sugeridos (en el notebook)\n",
    "1. Descripción breve de los **criterios** de segmentación utilizados.\n",
    "2. **Código** para la extracción de frames.\n",
    "3. **Implementación** de la segmentación por cada criterio y su **combinación**.\n",
    "4. **Resultados** (imágenes antes/después) y breve **discusión**.\n",
    "5. Conclusiones.\n",
    "\n",
    "---"
   ]
  },
  {
   "cell_type": "code",
   "execution_count": null,
   "id": "600d4430",
   "metadata": {},
   "outputs": [],
   "source": []
  }
 ],
 "metadata": {
  "kernelspec": {
   "display_name": "Python 3",
   "language": "python",
   "name": "python3"
  },
  "language_info": {
   "codemirror_mode": {
    "name": "ipython",
    "version": 3
   },
   "file_extension": ".py",
   "mimetype": "text/x-python",
   "name": "python",
   "nbconvert_exporter": "python",
   "pygments_lexer": "ipython3",
   "version": "3.13.7"
  }
 },
 "nbformat": 4,
 "nbformat_minor": 5
}

{
 "cells": [
  {
   "cell_type": "markdown",
   "id": "61202b86",
   "metadata": {},
   "source": [
    "## Laboratorio #2"
   ]
  },
  {
   "cell_type": "markdown",
   "id": "9bd193d4",
   "metadata": {},
   "source": [
    "#### EJERCICIO 1: CORRECCIÓN Y EVALUACION DE RUIDO\n",
    "\n",
    "* En este ejercicio van a usar ustedes las imágenes denominadas “cameraman (01 y 02)” y “balloons”.\n",
    "\n",
    "* Para cada una de ellas deben plantear una ESTRATEGIA de reducción de ruido, y posteriormente aplicar, en base a esa estrategia, tres opciones diferentes de reducción de ruido, comparando los resultados y determinando cuál de ellas es mejor."
   ]
  },
  {
   "cell_type": "code",
   "execution_count": null,
   "id": "35678e0b",
   "metadata": {},
   "outputs": [],
   "source": [
    "# Code"
   ]
  },
  {
   "cell_type": "markdown",
   "id": "10c030b0",
   "metadata": {},
   "source": [
    "#### EJERCICIO 2: FFT\n",
    "\n",
    "Recordemos que la definición de ruido es “aquella señal que no deseamos y que está mezclada con la señal que si deseamos”. Teniendo esto en cuenta, es claro que la imagen “edificio” tiene un ruido que se puede caracterizar frecuencialmente. \n",
    "\n",
    "En esas circunstancias se pide:\n",
    "\n",
    "* Analicen la imagen “por inspección” y determinen cuales son las características frecuenciales de ese ruido que desean eliminar.\n",
    "\n",
    "* Con base en dicho análisis y en el contenido del mapa de frecuencias de dicha imagen, planteen una propuesta de eliminación del ruido, y ejecútenla, demostrando que, efectivamente, el resultado es una imagen con dicho\n",
    "ruido reducido o eliminado de manera efectiva."
   ]
  },
  {
   "cell_type": "code",
   "execution_count": null,
   "id": "3bdf40c4",
   "metadata": {},
   "outputs": [],
   "source": [
    "# Code"
   ]
  },
  {
   "cell_type": "markdown",
   "id": "7dc1a18e",
   "metadata": {},
   "source": [
    "#### EJERCICIO 3: ANALISIS Y PROCESADO DE COLOR\n",
    "\n",
    "En este ejercicio van a usar ustedes la imagen denominada “verduras”.\n",
    "\n",
    "* Deben ustedes generar una estrategia adecuada para la segmentación que tenga como objetivo categorizar cada uno de los elementos que aparecen en la imagen: pimiento verde, pimiento naranja, pimiento rojo, pimiento\n",
    "amarillo y ajos.\n",
    "\n",
    "* Tengan en cuenta que el resultado puede no ser perfecto pero tienen que demostrar que han hecho para obtener el mejor resultado posible, basándose en los conceptos explicados en el curso y no únicamente en un “prueba y error” sin fundamento."
   ]
  },
  {
   "cell_type": "code",
   "execution_count": null,
   "id": "34a23e73",
   "metadata": {},
   "outputs": [],
   "source": [
    "# Code"
   ]
  }
 ],
 "metadata": {
  "language_info": {
   "name": "python"
  }
 },
 "nbformat": 4,
 "nbformat_minor": 5
}

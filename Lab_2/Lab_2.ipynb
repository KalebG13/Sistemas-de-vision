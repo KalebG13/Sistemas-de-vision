{
 "cells": [
  {
   "cell_type": "markdown",
   "id": "61202b86",
   "metadata": {},
   "source": [
    "## Laboratorio #2"
   ]
  }
 ],
 "metadata": {
  "language_info": {
   "name": "python"
  }
 },
 "nbformat": 4,
 "nbformat_minor": 5
}

{
 "cells": [
  {
   "cell_type": "code",
   "execution_count": null,
   "id": "b7bc059f",
   "metadata": {},
   "outputs": [],
   "source": [
    "tttt"
   ]
  }
 ],
 "metadata": {
  "language_info": {
   "name": "python"
  }
 },
 "nbformat": 4,
 "nbformat_minor": 5
}
